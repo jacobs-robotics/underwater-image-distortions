{
 "cells": [
  {
   "cell_type": "code",
   "execution_count": 1,
   "metadata": {},
   "outputs": [],
   "source": [
    "%matplotlib notebook\n",
    "import cv2\n",
    "import numpy as np\n",
    "from matplotlib import pyplot as plt\n",
    "import shutil\n",
    "from pathlib2 import Path\n",
    "import pandas as pd\n",
    "import sys\n",
    "import os\n",
    "import time\n",
    "#Snippet to find python modules/packages in other dirs from a jupyter notebook\n",
    "module_path = os.path.abspath(os.path.join('..'))\n",
    "if module_path not in sys.path:\n",
    "    sys.path.append(module_path)\n",
    "import underwater_distortions.underwater_distortions as UWdistortion"
   ]
  },
  {
   "cell_type": "markdown",
   "metadata": {},
   "source": [
    "### Code snippets to help (directory structure, dataframes)"
   ]
  },
  {
   "cell_type": "code",
   "execution_count": 8,
   "metadata": {},
   "outputs": [],
   "source": [
    "#create a directory if does not exist\n",
    "def ensure_dir(str_file_path):\n",
    "    directory = os.path.dirname(str_file_path)\n",
    "    try: \n",
    "        os.makedirs(directory)\n",
    "    except OSError:\n",
    "        if not os.path.isdir(directory):\n",
    "            raise\n",
    "    return True\n",
    "\n",
    "def create_new_db_tree(root_dir,scenarios_list,class_name,no_versions,version_offset=None):\n",
    "    version_offset = 0 if version_offset==None else version_offset\n",
    "    #create a dir for each scenario\n",
    "    for sdir in scenarios_list:\n",
    "        #create a subdir for each version\n",
    "        for x in range(no_versions):\n",
    "            formated_dir_num = '{:02d}'.format(x+version_offset)\n",
    "            str_new_dir = (root_dir + sdir + '/true_positives/' + class_name + '/dir_' + formated_dir_num+'/')\n",
    "            ensure_dir(str_new_dir)\n",
    "            str_new_dir = (root_dir + sdir + '/true_negatives/' + class_name + '/dir_' + formated_dir_num+'/')\n",
    "            ensure_dir(str_new_dir)\n",
    "            \n",
    "    return True\n",
    "\n",
    "#create and entry with \n",
    "def create_sampleMetaData(df_source,stereo_left,stereo_right,distortion_type,param1,param2):\n",
    "    new_sample = [{'scenario':df_source['scenario'],'stereo left':stereo_left,'stereo right':stereo_right,\n",
    "                   'label name':df_source['label name'],'label id':df_source['label id'],\n",
    "                   'roi left':df_source['roi left'],'roi right':df_source['roi right'],'synthetic':1,\n",
    "                   'distortion':distortion_type,'param 1':param1,'param 2':param2}]\n",
    "    return new_sample"
   ]
  },
  {
   "cell_type": "markdown",
   "metadata": {},
   "source": [
    "### Global variables"
   ]
  },
  {
   "cell_type": "code",
   "execution_count": 13,
   "metadata": {},
   "outputs": [],
   "source": [
    "#Original db variables\n",
    "str_data_path = '../../../../data/' \n",
    "str_db_path = str_data_path+'CADDY_gestures_complete_v2_release/'\n",
    "str_db_csv = str_db_path + 'CADDY_gestures_all_true_positives_release_v2.csv'\n",
    "\n",
    "#New db variables\n",
    "distortion_name = 'blur'\n",
    "distortion_values = [1.5,3.0]\n",
    "version_start_num = 0\n",
    "str_class_type = 'true_positives'\n",
    "str_new_db_path = str_data_path+'CADDY_gestures_complete_v2_release_'+distortion_name+'/'\n",
    "str_new_db_csv = str_new_db_path + 'CADDY_gestures_all_true_positives_release_v2-blur.csv'\n",
    "\n",
    "#Auxiliary variables to create new data frame\n",
    "df_columns = ['scenario','stereo left','stereo right','label name','label id','roi left','roi right',\n",
    "              'synthetic','distortion','param 1','param 2']\n",
    "dummy_row = [{'scenario':'dummy','stereo left':'dummy','stereo right':'dummy','label name':'dummy',\n",
    "              'label id':-1,'roi left':-1,'roi right':-1,'synthetic':-1,'distortion':'dummy',\n",
    "              'param 1':-1,'param 2':-1}]"
   ]
  },
  {
   "cell_type": "markdown",
   "metadata": {},
   "source": [
    "#### Read original database"
   ]
  },
  {
   "cell_type": "code",
   "execution_count": 4,
   "metadata": {},
   "outputs": [],
   "source": [
    "#Read original file with non-altered stereo images\n",
    "tmp_df = pd.read_csv(str_db_csv)\n",
    "database_source_df = tmp_df.loc[tmp_df['synthetic'] == 0]\n",
    "#database_source_df.head(10)"
   ]
  },
  {
   "cell_type": "markdown",
   "metadata": {},
   "source": [
    "#### Create same directory structure - Execute only once per distortion"
   ]
  },
  {
   "cell_type": "code",
   "execution_count": 35,
   "metadata": {},
   "outputs": [
    {
     "data": {
      "text/plain": [
       "True"
      ]
     },
     "execution_count": 35,
     "metadata": {},
     "output_type": "execute_result"
    }
   ],
   "source": [
    "#Create new dir for db\n",
    "ensure_dir(str_new_db_path)\n",
    "#Create same subdirs as orginal database structure\n",
    "scenarios_list = database_source_df.scenario.unique()\n",
    "create_new_db_tree(str_new_db_path,scenarios_list,distortion_name,len(distortion_values))"
   ]
  },
  {
   "cell_type": "code",
   "execution_count": 16,
   "metadata": {},
   "outputs": [
    {
     "data": {
      "text/html": [
       "<div>\n",
       "<style scoped>\n",
       "    .dataframe tbody tr th:only-of-type {\n",
       "        vertical-align: middle;\n",
       "    }\n",
       "\n",
       "    .dataframe tbody tr th {\n",
       "        vertical-align: top;\n",
       "    }\n",
       "\n",
       "    .dataframe thead th {\n",
       "        text-align: right;\n",
       "    }\n",
       "</style>\n",
       "<table border=\"1\" class=\"dataframe\">\n",
       "  <thead>\n",
       "    <tr style=\"text-align: right;\">\n",
       "      <th></th>\n",
       "      <th>scenario</th>\n",
       "      <th>stereo left</th>\n",
       "      <th>stereo right</th>\n",
       "      <th>label name</th>\n",
       "      <th>label id</th>\n",
       "      <th>roi left</th>\n",
       "      <th>roi right</th>\n",
       "      <th>synthetic</th>\n",
       "      <th>distortion</th>\n",
       "      <th>param 1</th>\n",
       "      <th>param 2</th>\n",
       "    </tr>\n",
       "  </thead>\n",
       "  <tbody>\n",
       "    <tr>\n",
       "      <th>0</th>\n",
       "      <td>dummy</td>\n",
       "      <td>dummy</td>\n",
       "      <td>dummy</td>\n",
       "      <td>dummy</td>\n",
       "      <td>-1</td>\n",
       "      <td>-1</td>\n",
       "      <td>-1</td>\n",
       "      <td>-1</td>\n",
       "      <td>dummy</td>\n",
       "      <td>-1</td>\n",
       "      <td>-1</td>\n",
       "    </tr>\n",
       "  </tbody>\n",
       "</table>\n",
       "</div>"
      ],
      "text/plain": [
       "  scenario stereo left stereo right label name  label id  roi left  roi right  \\\n",
       "0    dummy       dummy        dummy      dummy        -1        -1         -1   \n",
       "\n",
       "   synthetic distortion  param 1  param 2  \n",
       "0         -1      dummy       -1       -1  "
      ]
     },
     "execution_count": 16,
     "metadata": {},
     "output_type": "execute_result"
    }
   ],
   "source": [
    "#Create new csv db file\n",
    "new_database_df = pd.DataFrame(dummy_row)\n",
    "new_database_df  = new_database_df.loc[:,df_columns]\n",
    "new_database_df.head()"
   ]
  },
  {
   "cell_type": "code",
   "execution_count": 17,
   "metadata": {},
   "outputs": [
    {
     "name": "stdout",
     "output_type": "stream",
     "text": [
      " Processed: 3 AUGMENTED DATA BASE CREATED \n"
     ]
    }
   ],
   "source": [
    "#iterate through orginal file\n",
    "file_cc = 0 #counter to see progress and allow for quick testing\n",
    "for index, row in database_source_df.iterrows():\n",
    "    if file_cc > -1:\n",
    "        \n",
    "        #apply distortions to each image and save the  metadata in the dataframe\n",
    "        img_orig_left = cv2.imread(str_db_path[:-1] + row['stereo left'], cv2.IMREAD_COLOR)\n",
    "        img_orig_right = cv2.imread(str_db_path[:-1] + row['stereo right'], cv2.IMREAD_COLOR)\n",
    "        \n",
    "        #debugging\n",
    "        #print(row['stereo left'])\n",
    "        \n",
    "        #apply distortion\n",
    "        for x in range(len(distortion_values)):\n",
    "            \n",
    "            #create distorted images and save them in corresponding dirs\n",
    "            formated_dir_num = '{:02d}'.format(version_start_num+x)\n",
    "            distorted_img = UWdistortion.gaussian_blur(img_orig_left,distortion_values[x])\n",
    "            str_new_dir = (str_new_db_path + row['scenario'] + '/' + str_class_type + '/' + \n",
    "                          distortion_name + '/dir_' + formated_dir_num + '/')\n",
    "            str_imgL_path = str_new_dir + Path(row['stereo left']).name\n",
    "            cv2.imwrite(str_imgL_path,distorted_img,[cv2.IMWRITE_JPEG_QUALITY,100])            \n",
    "            \n",
    "            distorted_img = UWdistortion.gaussian_blur(img_orig_right,distortion_values[x])\n",
    "            str_imgR_path = str_new_dir + Path(row['stereo right']).name\n",
    "            cv2.imwrite(str_imgR_path,distorted_img,[cv2.IMWRITE_JPEG_QUALITY,100])\n",
    "            \n",
    "            #save metadata in new dataframe\n",
    "            #TODO: these distortions have only one parameter\n",
    "            #make the method more robust in case there is other params\n",
    "            \n",
    "            #Maek paths to image relative to db directory\n",
    "            str_relative_imgL_path = '/'+ str_imgL_path.replace(str_new_db_path,'')\n",
    "            str_relative_imgR_path = '/'+ str_imgR_path.replace(str_new_db_path,'')\n",
    "            new_database_df = new_database_df.append(create_sampleMetaData(row,\n",
    "                                                                           str_relative_imgL_path,\n",
    "                                                                           str_relative_imgR_path,\n",
    "                                                                           distortion_name,\n",
    "                                                                           distortion_values[x],\n",
    "                                                                           float('nan')),ignore_index=True)\n",
    "            \n",
    "        \n",
    "        \n",
    "        file_cc += 1\n",
    "        sys.stdout.write(\"\\r Processed: \" + str(file_cc))\n",
    "        \n",
    "#erase dummy row of the new dataframe and save the df\n",
    "new_database_df = new_database_df.drop(new_database_df.index[0])\n",
    "new_database_df.to_csv(str_new_db_csv)\n",
    "print(' AUGMENTED DATA BASE CREATED ')"
   ]
  },
  {
   "cell_type": "code",
   "execution_count": 18,
   "metadata": {},
   "outputs": [
    {
     "data": {
      "text/html": [
       "<div>\n",
       "<style scoped>\n",
       "    .dataframe tbody tr th:only-of-type {\n",
       "        vertical-align: middle;\n",
       "    }\n",
       "\n",
       "    .dataframe tbody tr th {\n",
       "        vertical-align: top;\n",
       "    }\n",
       "\n",
       "    .dataframe thead th {\n",
       "        text-align: right;\n",
       "    }\n",
       "</style>\n",
       "<table border=\"1\" class=\"dataframe\">\n",
       "  <thead>\n",
       "    <tr style=\"text-align: right;\">\n",
       "      <th></th>\n",
       "      <th>scenario</th>\n",
       "      <th>stereo left</th>\n",
       "      <th>stereo right</th>\n",
       "      <th>label name</th>\n",
       "      <th>label id</th>\n",
       "      <th>roi left</th>\n",
       "      <th>roi right</th>\n",
       "      <th>synthetic</th>\n",
       "      <th>distortion</th>\n",
       "      <th>param 1</th>\n",
       "      <th>param 2</th>\n",
       "    </tr>\n",
       "  </thead>\n",
       "  <tbody>\n",
       "    <tr>\n",
       "      <th>1</th>\n",
       "      <td>biograd-A</td>\n",
       "      <td>/biograd-A/true_positives/blur/dir_00/biograd-...</td>\n",
       "      <td>/biograd-A/true_positives/blur/dir_00/biograd-...</td>\n",
       "      <td>num_delimiter</td>\n",
       "      <td>10</td>\n",
       "      <td>[237,236,54,65]</td>\n",
       "      <td>[155,236,54,65]</td>\n",
       "      <td>1</td>\n",
       "      <td>blur</td>\n",
       "      <td>1.5</td>\n",
       "      <td>NaN</td>\n",
       "    </tr>\n",
       "    <tr>\n",
       "      <th>2</th>\n",
       "      <td>biograd-A</td>\n",
       "      <td>/biograd-A/true_positives/blur/dir_01/biograd-...</td>\n",
       "      <td>/biograd-A/true_positives/blur/dir_01/biograd-...</td>\n",
       "      <td>num_delimiter</td>\n",
       "      <td>10</td>\n",
       "      <td>[237,236,54,65]</td>\n",
       "      <td>[155,236,54,65]</td>\n",
       "      <td>1</td>\n",
       "      <td>blur</td>\n",
       "      <td>3.0</td>\n",
       "      <td>NaN</td>\n",
       "    </tr>\n",
       "    <tr>\n",
       "      <th>3</th>\n",
       "      <td>biograd-A</td>\n",
       "      <td>/biograd-A/true_positives/blur/dir_00/biograd-...</td>\n",
       "      <td>/biograd-A/true_positives/blur/dir_00/biograd-...</td>\n",
       "      <td>num_delimiter</td>\n",
       "      <td>10</td>\n",
       "      <td>[230,230,61,79]</td>\n",
       "      <td>[147,230,61,79]</td>\n",
       "      <td>1</td>\n",
       "      <td>blur</td>\n",
       "      <td>1.5</td>\n",
       "      <td>NaN</td>\n",
       "    </tr>\n",
       "    <tr>\n",
       "      <th>4</th>\n",
       "      <td>biograd-A</td>\n",
       "      <td>/biograd-A/true_positives/blur/dir_01/biograd-...</td>\n",
       "      <td>/biograd-A/true_positives/blur/dir_01/biograd-...</td>\n",
       "      <td>num_delimiter</td>\n",
       "      <td>10</td>\n",
       "      <td>[230,230,61,79]</td>\n",
       "      <td>[147,230,61,79]</td>\n",
       "      <td>1</td>\n",
       "      <td>blur</td>\n",
       "      <td>3.0</td>\n",
       "      <td>NaN</td>\n",
       "    </tr>\n",
       "    <tr>\n",
       "      <th>5</th>\n",
       "      <td>biograd-A</td>\n",
       "      <td>/biograd-A/true_positives/blur/dir_00/biograd-...</td>\n",
       "      <td>/biograd-A/true_positives/blur/dir_00/biograd-...</td>\n",
       "      <td>num_delimiter</td>\n",
       "      <td>10</td>\n",
       "      <td>[222,230,72,75]</td>\n",
       "      <td>[139,230,72,75]</td>\n",
       "      <td>1</td>\n",
       "      <td>blur</td>\n",
       "      <td>1.5</td>\n",
       "      <td>NaN</td>\n",
       "    </tr>\n",
       "  </tbody>\n",
       "</table>\n",
       "</div>"
      ],
      "text/plain": [
       "    scenario                                        stereo left  \\\n",
       "1  biograd-A  /biograd-A/true_positives/blur/dir_00/biograd-...   \n",
       "2  biograd-A  /biograd-A/true_positives/blur/dir_01/biograd-...   \n",
       "3  biograd-A  /biograd-A/true_positives/blur/dir_00/biograd-...   \n",
       "4  biograd-A  /biograd-A/true_positives/blur/dir_01/biograd-...   \n",
       "5  biograd-A  /biograd-A/true_positives/blur/dir_00/biograd-...   \n",
       "\n",
       "                                        stereo right     label name  label id  \\\n",
       "1  /biograd-A/true_positives/blur/dir_00/biograd-...  num_delimiter        10   \n",
       "2  /biograd-A/true_positives/blur/dir_01/biograd-...  num_delimiter        10   \n",
       "3  /biograd-A/true_positives/blur/dir_00/biograd-...  num_delimiter        10   \n",
       "4  /biograd-A/true_positives/blur/dir_01/biograd-...  num_delimiter        10   \n",
       "5  /biograd-A/true_positives/blur/dir_00/biograd-...  num_delimiter        10   \n",
       "\n",
       "          roi left        roi right  synthetic distortion  param 1  param 2  \n",
       "1  [237,236,54,65]  [155,236,54,65]          1       blur      1.5      NaN  \n",
       "2  [237,236,54,65]  [155,236,54,65]          1       blur      3.0      NaN  \n",
       "3  [230,230,61,79]  [147,230,61,79]          1       blur      1.5      NaN  \n",
       "4  [230,230,61,79]  [147,230,61,79]          1       blur      3.0      NaN  \n",
       "5  [222,230,72,75]  [139,230,72,75]          1       blur      1.5      NaN  "
      ]
     },
     "execution_count": 18,
     "metadata": {},
     "output_type": "execute_result"
    }
   ],
   "source": [
    "new_database_df.head()"
   ]
  },
  {
   "cell_type": "code",
   "execution_count": null,
   "metadata": {},
   "outputs": [],
   "source": []
  }
 ],
 "metadata": {
  "kernelspec": {
   "display_name": "Python 3",
   "language": "python",
   "name": "python3"
  },
  "language_info": {
   "codemirror_mode": {
    "name": "ipython",
    "version": 3
   },
   "file_extension": ".py",
   "mimetype": "text/x-python",
   "name": "python",
   "nbconvert_exporter": "python",
   "pygments_lexer": "ipython3",
   "version": "3.5.2"
  }
 },
 "nbformat": 4,
 "nbformat_minor": 2
}
